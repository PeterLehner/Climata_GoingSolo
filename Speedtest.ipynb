{
 "cells": [
  {
   "cell_type": "code",
   "execution_count": 18,
   "metadata": {},
   "outputs": [
    {
     "name": "stdout",
     "output_type": "stream",
     "text": [
      "{\n",
      "    \"zip_query\": 80304,\n",
      "    \"state\": \"CO\",\n",
      "    \"electric_bill_query\": 150,\n",
      "    \"heatpump_query\": false,\n",
      "    \"sqft_query\": null,\n",
      "    \"electricity_use_kwh\": 11637,\n",
      "    \"recommended_system_size_KW\": 7.7,\n",
      "    \"system_output_annual\": 11637,\n",
      "    \"estimated_cost\": 25945,\n",
      "    \"federal_incentive\": 7783,\n",
      "    \"state_incentive_by_W\": 0,\n",
      "    \"state_incentive_by_percent\": 0,\n",
      "    \"net_battery_cost\": 0,\n",
      "    \"battery_incentives\": 0,\n",
      "    \"net_estimated_cost\": 18161,\n",
      "    \"net_metering\": 1,\n",
      "    \"year1_production_savings\": 1800,\n",
      "    \"_20_year_production_savings\": 44617,\n",
      "    \"yearly_interest_payment\": 1561,\n",
      "    \"year1_net_savings\": 239,\n",
      "    \"_20yr_net_savings\": 13389,\n",
      "    \"Heat_pump\": \"No\",\n",
      "    \"cost_before_heatpump\": null,\n",
      "    \"cost_after_heatpump\": null,\n",
      "    \"heatpump_savings\": null\n",
      "}\n"
     ]
    }
   ],
   "source": [
    "import json\n",
    "from Main_v100 import SavingsModel\n",
    "\n",
    "zip_query = \"80304\"\n",
    "electric_bill_query = 150\n",
    "heatpump_query = False\n",
    "sqft_query = None\n",
    "\n",
    "result = SavingsModel(zip_query, electric_bill_query, sqft_query, heatpump_query)\n",
    "\n",
    "result = json.dumps(result) #convert result dictioniary to json\n",
    "result = json.dumps(json.loads(result), indent=4) #pretty print the json\n",
    "print(result)"
   ]
  },
  {
   "cell_type": "code",
   "execution_count": 20,
   "metadata": {},
   "outputs": [
    {
     "name": "stdout",
     "output_type": "stream",
     "text": [
      "{\n",
      "    \"zip_query\": 10011,\n",
      "    \"state\": \"NY\",\n",
      "    \"electric_bill_query\": 150,\n",
      "    \"heatpump_query\": false,\n",
      "    \"sqft_query\": null,\n",
      "    \"electricity_use_kwh\": 6246,\n",
      "    \"recommended_system_size_KW\": 4.5,\n",
      "    \"system_output_annual\": 6246,\n",
      "    \"estimated_cost\": 15399,\n",
      "    \"federal_incentive\": 4620,\n",
      "    \"state_incentive_by_W\": 908,\n",
      "    \"state_incentive_by_percent\": 3850,\n",
      "    \"net_battery_cost\": 0,\n",
      "    \"battery_incentives\": 0,\n",
      "    \"net_estimated_cost\": 6021,\n",
      "    \"net_metering\": 1,\n",
      "    \"year1_production_savings\": 1800,\n",
      "    \"_20_year_production_savings\": 44617,\n",
      "    \"yearly_interest_payment\": 518,\n",
      "    \"year1_net_savings\": 1282,\n",
      "    \"_20yr_net_savings\": 34264,\n",
      "    \"Heat_pump\": \"No\",\n",
      "    \"cost_before_heatpump\": null,\n",
      "    \"cost_after_heatpump\": null,\n",
      "    \"heatpump_savings\": null\n",
      "}\n"
     ]
    }
   ],
   "source": [
    "import json\n",
    "from Main_v100 import SavingsModel\n",
    "\n",
    "zip_query = \"10011\"\n",
    "electric_bill_query = 150\n",
    "heatpump_query = False\n",
    "sqft_query = None\n",
    "\n",
    "SavingsModel(zip_query, electric_bill_query, sqft_query, heatpump_query)\n",
    "\n",
    "result = SavingsModel(zip_query, electric_bill_query, sqft_query, heatpump_query)\n",
    "\n",
    "result = json.dumps(result) #convert result dictioniary to json\n",
    "result = json.dumps(json.loads(result), indent=4) #pretty print the json\n",
    "print(result)"
   ]
  },
  {
   "cell_type": "code",
   "execution_count": 21,
   "metadata": {},
   "outputs": [],
   "source": [
    "import pandas as pd\n",
    "df_working = pd.read_csv('Data/database_main.csv')"
   ]
  },
  {
   "cell_type": "code",
   "execution_count": 23,
   "metadata": {},
   "outputs": [
    {
     "name": "stdout",
     "output_type": "stream",
     "text": [
      "1.45 ms ± 162 µs per loop (mean ± std. dev. of 7 runs, 1,000 loops each)\n"
     ]
    }
   ],
   "source": [
    "%%timeit\n",
    "\n",
    "dict_working = df_working[df_working['zip'] == zip_query].squeeze().to_dict()  # Read the row with the matching zip_query as a dictionary\n"
   ]
  },
  {
   "cell_type": "code",
   "execution_count": null,
   "metadata": {},
   "outputs": [],
   "source": []
  }
 ],
 "metadata": {
  "kernelspec": {
   "display_name": "goingsolovirtualenvironment1",
   "language": "python",
   "name": "python3"
  },
  "language_info": {
   "codemirror_mode": {
    "name": "ipython",
    "version": 3
   },
   "file_extension": ".py",
   "mimetype": "text/x-python",
   "name": "python",
   "nbconvert_exporter": "python",
   "pygments_lexer": "ipython3",
   "version": "3.8.8"
  }
 },
 "nbformat": 4,
 "nbformat_minor": 2
}
