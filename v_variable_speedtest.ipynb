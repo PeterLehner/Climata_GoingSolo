{
 "cells": [
  {
   "cell_type": "code",
   "execution_count": 7,
   "metadata": {},
   "outputs": [],
   "source": [
    "import json\n",
    "from Main_vAPI3 import *\n",
    "\n",
    "zip_query = \"60188\"\n",
    "electric_bill_query = 150\n",
    "sqft_query = None\n",
    "heatpump_query = False"
   ]
  },
  {
   "cell_type": "code",
   "execution_count": 9,
   "metadata": {},
   "outputs": [
    {
     "name": "stdout",
     "output_type": "stream",
     "text": [
      "151 ms ± 7.07 ms per loop (mean ± std. dev. of 7 runs, 10 loops each)\n"
     ]
    }
   ],
   "source": [
    "%%timeit\n",
    "\n",
    "result = PullFromDBmain(zip_query, electric_bill_query, sqft_query, heatpump_query)"
   ]
  },
  {
   "cell_type": "code",
   "execution_count": 10,
   "metadata": {},
   "outputs": [],
   "source": [
    "import json\n",
    "from Main_vAPI3 import *\n",
    "\n",
    "zip_query = \"02108\"\n",
    "electric_bill_query = 150\n",
    "heatpump_query = False\n",
    "sqft_query = None"
   ]
  },
  {
   "cell_type": "code",
   "execution_count": 8,
   "metadata": {},
   "outputs": [
    {
     "name": "stdout",
     "output_type": "stream",
     "text": [
      "139 ms ± 6.48 ms per loop (mean ± std. dev. of 7 runs, 10 loops each)\n"
     ]
    }
   ],
   "source": [
    "%%timeit\n",
    "\n",
    "result = PullFromDBmain(zip_query, electric_bill_query, sqft_query, heatpump_query)\n"
   ]
  },
  {
   "cell_type": "code",
   "execution_count": 9,
   "metadata": {},
   "outputs": [
    {
     "name": "stdout",
     "output_type": "stream",
     "text": [
      "{\n",
      "    \"zip_query\": 3047,\n",
      "    \"state\": \"NH\",\n",
      "    \"electric_bill_query\": 150,\n",
      "    \"heatpump_query\": false,\n",
      "    \"sqft_query\": null,\n",
      "    \"electricity_use_kwh\": 9330,\n",
      "    \"recommended_system_size_KW\": 7.2,\n",
      "    \"system_output_annual\": 9330,\n",
      "    \"estimated_cost\": 24346,\n",
      "    \"federal_incentive\": 7304,\n",
      "    \"state_incentive_by_W\": 1000,\n",
      "    \"state_incentive_by_percent\": 0,\n",
      "    \"net_battery_cost\": 0,\n",
      "    \"battery_incentives\": 0,\n",
      "    \"net_estimated_cost\": 16042,\n",
      "    \"net_metering\": 1,\n",
      "    \"year1_production_savings\": 1800,\n",
      "    \"_20_year_production_savings\": 44617,\n",
      "    \"yearly_interest_payment\": 1379,\n",
      "    \"year1_net_savings\": 421,\n",
      "    \"_20yr_net_savings\": 17034,\n",
      "    \"Heat_pump\": \"No\",\n",
      "    \"cost_before_heatpump\": null,\n",
      "    \"cost_after_heatpump\": null,\n",
      "    \"heatpump_savings\": null\n",
      "}\n"
     ]
    }
   ],
   "source": [
    "result = json.dumps(result) #convert result dictioniary to json\n",
    "result = json.dumps(json.loads(result), indent=4) #pretty print the json\n",
    "\n",
    "print(result)"
   ]
  },
  {
   "cell_type": "code",
   "execution_count": null,
   "metadata": {},
   "outputs": [],
   "source": []
  }
 ],
 "metadata": {
  "kernelspec": {
   "display_name": "goingsolovirtualenvironment1",
   "language": "python",
   "name": "python3"
  },
  "language_info": {
   "codemirror_mode": {
    "name": "ipython",
    "version": 3
   },
   "file_extension": ".py",
   "mimetype": "text/x-python",
   "name": "python",
   "nbconvert_exporter": "python",
   "pygments_lexer": "ipython3",
   "version": "3.8.8"
  }
 },
 "nbformat": 4,
 "nbformat_minor": 2
}
