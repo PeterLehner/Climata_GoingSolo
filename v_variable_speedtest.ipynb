{
 "cells": [
  {
   "cell_type": "code",
   "execution_count": 14,
   "metadata": {},
   "outputs": [
    {
     "name": "stdout",
     "output_type": "stream",
     "text": [
      "{\n",
      "    \"zip_query\": 2108,\n",
      "    \"state\": \"MA\",\n",
      "    \"electric_bill_query\": 150,\n",
      "    \"heatpump_query\": false,\n",
      "    \"sqft_query\": null,\n",
      "    \"electricity_use_kwh\": 8132,\n",
      "    \"recommended_system_size_KW\": 6.1,\n",
      "    \"system_output_annual\": 8132,\n",
      "    \"estimated_cost\": 20498,\n",
      "    \"federal_incentive\": 6149,\n",
      "    \"state_incentive_by_W\": 0,\n",
      "    \"state_incentive_by_percent\": 1000,\n",
      "    \"net_battery_cost\": 0,\n",
      "    \"battery_incentives\": 0,\n",
      "    \"net_estimated_cost\": 13348,\n",
      "    \"net_metering\": 1,\n",
      "    \"year1_production_savings\": 2613,\n",
      "    \"_20_year_production_savings\": 60881,\n",
      "    \"yearly_interest_payment\": 1148,\n",
      "    \"year1_net_savings\": 1466,\n",
      "    \"_20yr_net_savings\": 37930,\n",
      "    \"Heat_pump\": \"No\",\n",
      "    \"cost_before_heatpump\": null,\n",
      "    \"cost_after_heatpump\": null,\n",
      "    \"heatpump_savings\": null\n",
      "}\n"
     ]
    }
   ],
   "source": [
    "%%timeit\n",
    "\n",
    "import json\n",
    "from Main_v100 import SavingsModel\n",
    "\n",
    "zip_query = \"02108\"\n",
    "electric_bill_query = 150\n",
    "heatpump_query = False\n",
    "sqft_query = None\n",
    "\n",
    "result = SavingsModel(zip_query, electric_bill_query, sqft_query, heatpump_query)\n",
    "\n",
    "result = json.dumps(result) #convert result dictioniary to json\n",
    "result = json.dumps(json.loads(result), indent=4) #pretty print the json\n",
    "print(result)"
   ]
  },
  {
   "cell_type": "code",
   "execution_count": 9,
   "metadata": {},
   "outputs": [],
   "source": [
    "result = SavingsModel(zip_query, electric_bill_query, sqft_query, heatpump_query)\n"
   ]
  },
  {
   "cell_type": "code",
   "execution_count": 13,
   "metadata": {},
   "outputs": [
    {
     "name": "stdout",
     "output_type": "stream",
     "text": [
      "\"\\\"{\\\\n    \\\\\\\"zip_query\\\\\\\": 2108,\\\\n    \\\\\\\"state\\\\\\\": \\\\\\\"MA\\\\\\\",\\\\n    \\\\\\\"electric_bill_query\\\\\\\": 150,\\\\n    \\\\\\\"heatpump_query\\\\\\\": false,\\\\n    \\\\\\\"sqft_query\\\\\\\": null,\\\\n    \\\\\\\"electricity_use_kwh\\\\\\\": 8132,\\\\n    \\\\\\\"recommended_system_size_KW\\\\\\\": 6.1,\\\\n    \\\\\\\"system_output_annual\\\\\\\": 8132,\\\\n    \\\\\\\"estimated_cost\\\\\\\": 20498,\\\\n    \\\\\\\"federal_incentive\\\\\\\": 6149,\\\\n    \\\\\\\"state_incentive_by_W\\\\\\\": 0,\\\\n    \\\\\\\"state_incentive_by_percent\\\\\\\": 1000,\\\\n    \\\\\\\"net_battery_cost\\\\\\\": 0,\\\\n    \\\\\\\"battery_incentives\\\\\\\": 0,\\\\n    \\\\\\\"net_estimated_cost\\\\\\\": 13348,\\\\n    \\\\\\\"net_metering\\\\\\\": 1,\\\\n    \\\\\\\"year1_production_savings\\\\\\\": 2613,\\\\n    \\\\\\\"_20_year_production_savings\\\\\\\": 60881,\\\\n    \\\\\\\"yearly_interest_payment\\\\\\\": 1148,\\\\n    \\\\\\\"year1_net_savings\\\\\\\": 1466,\\\\n    \\\\\\\"_20yr_net_savings\\\\\\\": 37930,\\\\n    \\\\\\\"Heat_pump\\\\\\\": \\\\\\\"No\\\\\\\",\\\\n    \\\\\\\"cost_before_heatpump\\\\\\\": null,\\\\n    \\\\\\\"cost_after_heatpump\\\\\\\": null,\\\\n    \\\\\\\"heatpump_savings\\\\\\\": null\\\\n}\\\"\"\n"
     ]
    }
   ],
   "source": [
    "result = json.dumps(result) #convert result dictioniary to json\n",
    "result = json.dumps(json.loads(result), indent=4) #pretty print the json\n",
    "print(result)"
   ]
  },
  {
   "cell_type": "code",
   "execution_count": null,
   "metadata": {},
   "outputs": [],
   "source": []
  }
 ],
 "metadata": {
  "kernelspec": {
   "display_name": "goingsolovirtualenvironment1",
   "language": "python",
   "name": "python3"
  },
  "language_info": {
   "codemirror_mode": {
    "name": "ipython",
    "version": 3
   },
   "file_extension": ".py",
   "mimetype": "text/x-python",
   "name": "python",
   "nbconvert_exporter": "python",
   "pygments_lexer": "ipython3",
   "version": "3.8.8"
  }
 },
 "nbformat": 4,
 "nbformat_minor": 2
}
