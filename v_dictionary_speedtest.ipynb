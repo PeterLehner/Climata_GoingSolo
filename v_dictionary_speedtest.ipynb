{
 "cells": [
  {
   "cell_type": "code",
   "execution_count": 27,
   "metadata": {},
   "outputs": [],
   "source": [
    "%reset -f"
   ]
  },
  {
   "cell_type": "code",
   "execution_count": 30,
   "metadata": {},
   "outputs": [],
   "source": [
    "\n",
    "from Main_vAPI import *\n",
    "\n",
    "zip_query = \"60188\"\n",
    "electric_bill_query = 150\n",
    "sqft_query = None\n",
    "heatpump_query = False\n",
    "\n",
    "BATTERY_COUNT = 1\n",
    "BATTERY_KWH = 13.5"
   ]
  },
  {
   "cell_type": "code",
   "execution_count": 33,
   "metadata": {},
   "outputs": [
    {
     "name": "stdout",
     "output_type": "stream",
     "text": [
      "151 ms ± 632 µs per loop (mean ± std. dev. of 7 runs, 10 loops each)\n"
     ]
    }
   ],
   "source": [
    "%%timeit\n",
    "\n",
    "result = PullFromDBmain(zip_query)\n",
    "\n",
    "result = AdjustElectricityUse(result, electric_bill_query)\n",
    "\n",
    "result = GetHeatpumpSavings(result, sqft_query)\n",
    "\n",
    "result = CalculateRecommendedSystemSize(result, heatpump_query, BATTERY_COUNT, BATTERY_KWH)\n",
    "\n",
    "result = MergeCosts(result)\n",
    "\n",
    "result = CalculateSolarIncentives(result)\n",
    "\n",
    "result = CalculateBatteryIncentives(result)\n",
    "\n",
    "result = CalculateProductionSavings(result)\n",
    "\n",
    "result = CalculateLoanPayments(result)"
   ]
  },
  {
   "cell_type": "code",
   "execution_count": null,
   "metadata": {},
   "outputs": [],
   "source": []
  }
 ],
 "metadata": {
  "kernelspec": {
   "display_name": "goingsolovirtualenvironment1",
   "language": "python",
   "name": "python3"
  },
  "language_info": {
   "codemirror_mode": {
    "name": "ipython",
    "version": 3
   },
   "file_extension": ".py",
   "mimetype": "text/x-python",
   "name": "python",
   "nbconvert_exporter": "python",
   "pygments_lexer": "ipython3",
   "version": "3.8.8"
  }
 },
 "nbformat": 4,
 "nbformat_minor": 2
}
